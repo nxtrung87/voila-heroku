{
 "cells": [
  {
   "cell_type": "code",
   "execution_count": 1,
   "metadata": {},
   "outputs": [],
   "source": [
    "from bqplot import pyplot as plt\n",
    "import ipywidgets as widgets\n",
    "import numpy as np\n",
    "import paramiko\n",
    "import ftplib\n",
    "import sqlite3\n",
    "from pathlib import Path\n",
    "import pandas as pd\n"
   ]
  },
  {
   "cell_type": "code",
   "execution_count": 2,
   "metadata": {},
   "outputs": [],
   "source": [
    "# generate some fake \n",
    "n = 2000\n",
    "x = np.linspace(0.0, 10.0, n)\n",
    "np.random.seed(0)\n",
    "y = np.cumsum(np.random.randn(n)*10).astype(int)"
   ]
  },
  {
   "cell_type": "code",
   "execution_count": 3,
   "metadata": {},
   "outputs": [],
   "source": [
    "fig_hist = plt.figure( title='Histogram')\n",
    "hist = plt.hist(y, bins=25)"
   ]
  },
  {
   "cell_type": "code",
   "execution_count": 4,
   "metadata": {},
   "outputs": [],
   "source": [
    "hist.bins = 10;"
   ]
  },
  {
   "cell_type": "code",
   "execution_count": 5,
   "metadata": {},
   "outputs": [],
   "source": [
    "slider = widgets.IntSlider(description='Bins number', min=1, max=100, v_model=30)"
   ]
  },
  {
   "cell_type": "code",
   "execution_count": 6,
   "metadata": {
    "scrolled": false
   },
   "outputs": [
    {
     "data": {
      "application/vnd.jupyter.widget-view+json": {
       "model_id": "b9f8d531953b4921890763b5e6393d26",
       "version_major": 2,
       "version_minor": 0
      },
      "text/plain": [
       "GridspecLayout(children=(Figure(axes=[Axis(scale=LinearScale()), Axis(orientation='vertical', scale=LinearScal…"
      ]
     },
     "metadata": {},
     "output_type": "display_data"
    }
   ],
   "source": [
    "widgets.link((hist, 'bins'), (slider, 'value'))\n",
    "\n",
    "fig_lines = plt.figure( title='Line Chart')\n",
    "lines = plt.plot(x, y)\n",
    "\n",
    "fig_lines.layout.width = 'auto'\n",
    "fig_lines.layout.height = 'auto'\n",
    "fig_hist.layout.width = 'auto'\n",
    "fig_hist.layout.height = 'auto'\n",
    "\n",
    "grid_layout = widgets.GridspecLayout(5, 3)\n",
    "\n",
    "grid_layout[:2, :] = fig_lines\n",
    "grid_layout[2:4, :] = fig_hist\n",
    "grid_layout[4, 1] = slider\n",
    "\n",
    "grid_layout.layout.height = '1000px'\n",
    "\n",
    "grid_layout"
   ]
  },
  {
   "cell_type": "code",
   "execution_count": 7,
   "metadata": {},
   "outputs": [],
   "source": [
    "selector = plt.brush_int_selector()\n",
    "def update_range(*ignore):\n",
    "    if selector.selected is not None and len(selector.selected) == 2:\n",
    "        xmin, xmax = selector.selected\n",
    "        mask = (x > xmin) & (x < xmax)\n",
    "        hist.sample = y[mask]\n",
    "selector.observe(update_range, 'selected')        "
   ]
  },
  {
   "cell_type": "code",
   "execution_count": 8,
   "metadata": {},
   "outputs": [
    {
     "data": {
      "text/html": [
       "\n",
       "        <iframe\n",
       "            width=\"1200\"\n",
       "            height=\"500\"\n",
       "            src=\"https://sustainablecharging.nl/\"\n",
       "            frameborder=\"0\"\n",
       "            allowfullscreen\n",
       "        ></iframe>\n",
       "        "
      ],
      "text/plain": [
       "<IPython.lib.display.IFrame at 0x19ade44e520>"
      ]
     },
     "execution_count": 8,
     "metadata": {},
     "output_type": "execute_result"
    }
   ],
   "source": [
    "from IPython.display import IFrame\n",
    "IFrame('https://sustainablecharging.nl/', width=1200, height=500)"
   ]
  },
  {
   "cell_type": "code",
   "execution_count": 9,
   "metadata": {},
   "outputs": [],
   "source": [
    "from pyowm.owm import OWM\n",
    "from pyowm.utils import timestamps\n",
    "from datetime import datetime, timedelta, timezone"
   ]
  },
  {
   "cell_type": "code",
   "execution_count": 10,
   "metadata": {},
   "outputs": [],
   "source": [
    "def get_weather():\n",
    "    \n",
    "    owm = OWM('1a4df9d4817c3d16e92b272d59531753')\n",
    "    mgr = owm.weather_manager()\n",
    "    one_call = mgr.one_call(lat=51.98787601885725, lon=5.950209138832937)\n",
    "    #one_call.forecast_daily[0].temperature('celsius').get('feels_like_morn', None) #Ex.: 7.7\n",
    "    forecast_hourly = one_call.forecast_hourly\n",
    "    \n",
    "    nr_of_weathers = len(forecast_hourly)\n",
    "    Cloud = np.zeros(len(forecast_hourly))\n",
    "    Temperature = np.zeros(len(forecast_hourly))\n",
    "    #Wind_speed = np.zeros(len(forecast_hourly))\n",
    "    #Wind_direction = np.zeros(len(forecast_hourly))\n",
    "    Humidity = np.zeros(len(forecast_hourly))\n",
    "    Air_pressure = np.zeros(len(forecast_hourly))\n",
    "\n",
    "    for i in range(nr_of_weathers):\n",
    "        dt = (datetime.fromtimestamp(forecast_hourly[i].ref_time)).strftime('%Y-%m-%d %H:%M:%S')\n",
    "        Cloud[i] = forecast_hourly[i].clouds\n",
    "        Temperature[i] = forecast_hourly[i].temperature('celsius')['temp']\n",
    "        #Wind_speed[i] = forecast_hourly[i].wind()['speed']\n",
    "        #Wind_direction[i] = forecast_hourly[i].wind()['deg']\n",
    "        Humidity[i] = forecast_hourly[i].humidity\n",
    "        Air_pressure[i] = forecast_hourly[i].pressure['press']*0.1\n",
    "        #print(dt, forecast_hourly[i].temperature('celsius'),forecast_hourly[i].clouds )\n",
    "    return Temperature, Air_pressure , Humidity, Cloud"
   ]
  },
  {
   "cell_type": "code",
   "execution_count": 11,
   "metadata": {},
   "outputs": [],
   "source": [
    "#Temperature, Air_pressure , Humidity, Cloud = get_weather()"
   ]
  },
  {
   "cell_type": "code",
   "execution_count": 21,
   "metadata": {},
   "outputs": [],
   "source": [
    "#print('Temperature',Temperature)\n",
    "#print('Cloud', Cloud)\n",
    "#print('Humidity', Humidity)\n",
    "#print('Air_pressure', Air_pressure)"
   ]
  },
  {
   "cell_type": "code",
   "execution_count": 22,
   "metadata": {},
   "outputs": [],
   "source": [
    "def get_modbus():\n",
    "    \n",
    "    host = \"80.113.19.27\"\n",
    "    port = 22\n",
    "    password = \"controlsystem\"\n",
    "    username = \"pi\"\n",
    "\n",
    "    ssh = paramiko.SSHClient()\n",
    "    ssh.set_missing_host_key_policy(paramiko.AutoAddPolicy())\n",
    "    ssh.connect(host, port, username, password)\n",
    "\n",
    "    ftp = ssh.open_sftp()\n",
    "    \n",
    "    data_d = ftp.chdir('/mnt/dav/Data')\n",
    "    cwd=ftp.getcwd()\n",
    "    path = Path.cwd()\n",
    "    \n",
    "    ftp.get(\"modbusData.db\",\"modbusData.db\",callback=None)\n",
    "    \n",
    "    conn = sqlite3.connect(\"modbusData.db\")\n",
    "    query = '''SELECT * from PV'''\n",
    "    PV_data= pd.read_sql_query(query,conn)\n",
    "    PV_data['Time']=pd.to_datetime(PV_data['Time'],unit='s')\n",
    "    \n",
    "    # PV data \n",
    "    PV_data= PV_data.sort_values(by='Time', ascending=True)\n",
    "    PV_data['Time']=pd.to_datetime(PV_data['Time'],unit='s')\n",
    "    PV_data = PV_data.set_index('Time')\n",
    "    PV_data=PV_data.resample('60min').mean()\n",
    "    PV_data = PV_data.tail(24)\n",
    "    \n",
    "    return PV_data"
   ]
  },
  {
   "cell_type": "code",
   "execution_count": 23,
   "metadata": {},
   "outputs": [],
   "source": [
    "PV_data =get_modbus()"
   ]
  },
  {
   "cell_type": "code",
   "execution_count": 24,
   "metadata": {},
   "outputs": [
    {
     "data": {
      "text/html": [
       "<div>\n",
       "<style scoped>\n",
       "    .dataframe tbody tr th:only-of-type {\n",
       "        vertical-align: middle;\n",
       "    }\n",
       "\n",
       "    .dataframe tbody tr th {\n",
       "        vertical-align: top;\n",
       "    }\n",
       "\n",
       "    .dataframe thead th {\n",
       "        text-align: right;\n",
       "    }\n",
       "</style>\n",
       "<table border=\"1\" class=\"dataframe\">\n",
       "  <thead>\n",
       "    <tr style=\"text-align: right;\">\n",
       "      <th></th>\n",
       "      <th>No</th>\n",
       "      <th>V1</th>\n",
       "      <th>V2</th>\n",
       "      <th>V3</th>\n",
       "      <th>I1</th>\n",
       "      <th>I2</th>\n",
       "      <th>I3</th>\n",
       "      <th>P1</th>\n",
       "      <th>P2</th>\n",
       "      <th>P3</th>\n",
       "      <th>Q1</th>\n",
       "      <th>Q2</th>\n",
       "      <th>Q3</th>\n",
       "      <th>S1</th>\n",
       "      <th>S2</th>\n",
       "      <th>S3</th>\n",
       "      <th>PF1</th>\n",
       "      <th>PF2</th>\n",
       "      <th>PF3</th>\n",
       "      <th>F</th>\n",
       "    </tr>\n",
       "    <tr>\n",
       "      <th>Time</th>\n",
       "      <th></th>\n",
       "      <th></th>\n",
       "      <th></th>\n",
       "      <th></th>\n",
       "      <th></th>\n",
       "      <th></th>\n",
       "      <th></th>\n",
       "      <th></th>\n",
       "      <th></th>\n",
       "      <th></th>\n",
       "      <th></th>\n",
       "      <th></th>\n",
       "      <th></th>\n",
       "      <th></th>\n",
       "      <th></th>\n",
       "      <th></th>\n",
       "      <th></th>\n",
       "      <th></th>\n",
       "      <th></th>\n",
       "      <th></th>\n",
       "    </tr>\n",
       "  </thead>\n",
       "  <tbody>\n",
       "    <tr>\n",
       "      <th>2021-05-19 10:00:00</th>\n",
       "      <td>26828.5</td>\n",
       "      <td>230.413889</td>\n",
       "      <td>229.430556</td>\n",
       "      <td>229.833333</td>\n",
       "      <td>21.701667</td>\n",
       "      <td>21.749167</td>\n",
       "      <td>21.713333</td>\n",
       "      <td>4990.000000</td>\n",
       "      <td>4980.000000</td>\n",
       "      <td>4980.833333</td>\n",
       "      <td>-28.333333</td>\n",
       "      <td>-34.166667</td>\n",
       "      <td>-19.166667</td>\n",
       "      <td>4585.000000</td>\n",
       "      <td>4566.666667</td>\n",
       "      <td>4572.500000</td>\n",
       "      <td>0.990778</td>\n",
       "      <td>0.990083</td>\n",
       "      <td>0.990972</td>\n",
       "      <td>50.008889</td>\n",
       "    </tr>\n",
       "    <tr>\n",
       "      <th>2021-05-19 11:00:00</th>\n",
       "      <td>26861.0</td>\n",
       "      <td>228.341379</td>\n",
       "      <td>227.465517</td>\n",
       "      <td>227.996552</td>\n",
       "      <td>1.359310</td>\n",
       "      <td>1.377931</td>\n",
       "      <td>1.396552</td>\n",
       "      <td>249.310345</td>\n",
       "      <td>245.172414</td>\n",
       "      <td>252.413793</td>\n",
       "      <td>-31.034483</td>\n",
       "      <td>-43.448276</td>\n",
       "      <td>-36.206897</td>\n",
       "      <td>294.827586</td>\n",
       "      <td>300.000000</td>\n",
       "      <td>304.137931</td>\n",
       "      <td>0.794034</td>\n",
       "      <td>0.771483</td>\n",
       "      <td>0.789517</td>\n",
       "      <td>50.000000</td>\n",
       "    </tr>\n",
       "    <tr>\n",
       "      <th>2021-05-19 12:00:00</th>\n",
       "      <td>26891.0</td>\n",
       "      <td>230.409677</td>\n",
       "      <td>229.477419</td>\n",
       "      <td>230.019355</td>\n",
       "      <td>7.256129</td>\n",
       "      <td>7.275484</td>\n",
       "      <td>7.288065</td>\n",
       "      <td>1666.451613</td>\n",
       "      <td>1659.677419</td>\n",
       "      <td>1671.290323</td>\n",
       "      <td>-50.322581</td>\n",
       "      <td>-58.064516</td>\n",
       "      <td>-39.677419</td>\n",
       "      <td>1639.354839</td>\n",
       "      <td>1638.387097</td>\n",
       "      <td>1644.193548</td>\n",
       "      <td>0.989613</td>\n",
       "      <td>0.988645</td>\n",
       "      <td>0.989387</td>\n",
       "      <td>50.006774</td>\n",
       "    </tr>\n",
       "    <tr>\n",
       "      <th>2021-05-19 13:00:00</th>\n",
       "      <td>26923.0</td>\n",
       "      <td>229.154545</td>\n",
       "      <td>228.221212</td>\n",
       "      <td>228.800000</td>\n",
       "      <td>19.075455</td>\n",
       "      <td>19.089091</td>\n",
       "      <td>19.096364</td>\n",
       "      <td>4351.818182</td>\n",
       "      <td>4335.454545</td>\n",
       "      <td>4348.181818</td>\n",
       "      <td>-20.909091</td>\n",
       "      <td>-29.090909</td>\n",
       "      <td>-25.454545</td>\n",
       "      <td>4314.545455</td>\n",
       "      <td>4303.636364</td>\n",
       "      <td>4309.090909</td>\n",
       "      <td>0.998818</td>\n",
       "      <td>0.998788</td>\n",
       "      <td>0.998848</td>\n",
       "      <td>50.000000</td>\n",
       "    </tr>\n",
       "    <tr>\n",
       "      <th>2021-05-19 14:00:00</th>\n",
       "      <td>26956.5</td>\n",
       "      <td>230.394118</td>\n",
       "      <td>229.517647</td>\n",
       "      <td>229.858824</td>\n",
       "      <td>22.330588</td>\n",
       "      <td>22.322647</td>\n",
       "      <td>22.320882</td>\n",
       "      <td>5458.235294</td>\n",
       "      <td>5438.823529</td>\n",
       "      <td>5446.764706</td>\n",
       "      <td>-21.176471</td>\n",
       "      <td>-26.470588</td>\n",
       "      <td>-22.058824</td>\n",
       "      <td>5094.705882</td>\n",
       "      <td>5079.705882</td>\n",
       "      <td>5081.470588</td>\n",
       "      <td>0.998176</td>\n",
       "      <td>0.998059</td>\n",
       "      <td>0.998088</td>\n",
       "      <td>50.000000</td>\n",
       "    </tr>\n",
       "  </tbody>\n",
       "</table>\n",
       "</div>"
      ],
      "text/plain": [
       "                          No          V1          V2          V3         I1  \\\n",
       "Time                                                                          \n",
       "2021-05-19 10:00:00  26828.5  230.413889  229.430556  229.833333  21.701667   \n",
       "2021-05-19 11:00:00  26861.0  228.341379  227.465517  227.996552   1.359310   \n",
       "2021-05-19 12:00:00  26891.0  230.409677  229.477419  230.019355   7.256129   \n",
       "2021-05-19 13:00:00  26923.0  229.154545  228.221212  228.800000  19.075455   \n",
       "2021-05-19 14:00:00  26956.5  230.394118  229.517647  229.858824  22.330588   \n",
       "\n",
       "                            I2         I3           P1           P2  \\\n",
       "Time                                                                  \n",
       "2021-05-19 10:00:00  21.749167  21.713333  4990.000000  4980.000000   \n",
       "2021-05-19 11:00:00   1.377931   1.396552   249.310345   245.172414   \n",
       "2021-05-19 12:00:00   7.275484   7.288065  1666.451613  1659.677419   \n",
       "2021-05-19 13:00:00  19.089091  19.096364  4351.818182  4335.454545   \n",
       "2021-05-19 14:00:00  22.322647  22.320882  5458.235294  5438.823529   \n",
       "\n",
       "                              P3         Q1         Q2         Q3  \\\n",
       "Time                                                                \n",
       "2021-05-19 10:00:00  4980.833333 -28.333333 -34.166667 -19.166667   \n",
       "2021-05-19 11:00:00   252.413793 -31.034483 -43.448276 -36.206897   \n",
       "2021-05-19 12:00:00  1671.290323 -50.322581 -58.064516 -39.677419   \n",
       "2021-05-19 13:00:00  4348.181818 -20.909091 -29.090909 -25.454545   \n",
       "2021-05-19 14:00:00  5446.764706 -21.176471 -26.470588 -22.058824   \n",
       "\n",
       "                              S1           S2           S3       PF1  \\\n",
       "Time                                                                   \n",
       "2021-05-19 10:00:00  4585.000000  4566.666667  4572.500000  0.990778   \n",
       "2021-05-19 11:00:00   294.827586   300.000000   304.137931  0.794034   \n",
       "2021-05-19 12:00:00  1639.354839  1638.387097  1644.193548  0.989613   \n",
       "2021-05-19 13:00:00  4314.545455  4303.636364  4309.090909  0.998818   \n",
       "2021-05-19 14:00:00  5094.705882  5079.705882  5081.470588  0.998176   \n",
       "\n",
       "                          PF2       PF3          F  \n",
       "Time                                                \n",
       "2021-05-19 10:00:00  0.990083  0.990972  50.008889  \n",
       "2021-05-19 11:00:00  0.771483  0.789517  50.000000  \n",
       "2021-05-19 12:00:00  0.988645  0.989387  50.006774  \n",
       "2021-05-19 13:00:00  0.998788  0.998848  50.000000  \n",
       "2021-05-19 14:00:00  0.998059  0.998088  50.000000  "
      ]
     },
     "execution_count": 24,
     "metadata": {},
     "output_type": "execute_result"
    }
   ],
   "source": [
    "PV_data.head()"
   ]
  },
  {
   "cell_type": "code",
   "execution_count": null,
   "metadata": {},
   "outputs": [],
   "source": []
  }
 ],
 "metadata": {
  "kernelspec": {
   "display_name": "Python 3",
   "language": "python",
   "name": "python3"
  },
  "language_info": {
   "codemirror_mode": {
    "name": "ipython",
    "version": 3
   },
   "file_extension": ".py",
   "mimetype": "text/x-python",
   "name": "python",
   "nbconvert_exporter": "python",
   "pygments_lexer": "ipython3",
   "version": "3.8.10"
  },
  "widgets": {
   "application/vnd.jupyter.widget-state+json": {
    "state": {},
    "version_major": 2,
    "version_minor": 0
   }
  }
 },
 "nbformat": 4,
 "nbformat_minor": 4
}
