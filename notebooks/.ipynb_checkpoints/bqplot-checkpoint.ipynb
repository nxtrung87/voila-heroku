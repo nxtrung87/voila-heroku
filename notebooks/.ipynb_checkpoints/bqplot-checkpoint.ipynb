{
 "cells": [
  {
   "cell_type": "code",
   "execution_count": 46,
   "metadata": {},
   "outputs": [],
   "source": [
    "#from bqplot import pyplot as plt\n",
    "import ipywidgets as widgets\n",
    "import numpy as np\n",
    "import paramiko\n",
    "import ftplib\n",
    "import sqlite3\n",
    "from pathlib import Path\n",
    "import pandas as pd\n",
    "import matplotlib.pyplot as plt"
   ]
  },
  {
   "cell_type": "code",
   "execution_count": 47,
   "metadata": {},
   "outputs": [],
   "source": [
    "# generate some fake \n",
    "#n = 2000\n",
    "#x = np.linspace(0.0, 10.0, n)\n",
    "#np.random.seed(0)\n",
    "#y = np.cumsum(np.random.randn(n)*10).astype(int)"
   ]
  },
  {
   "cell_type": "code",
   "execution_count": 48,
   "metadata": {},
   "outputs": [],
   "source": [
    "#fig_hist = plt.figure( title='Histogram')\n",
    "#hist = plt.hist(y, bins=25)"
   ]
  },
  {
   "cell_type": "code",
   "execution_count": 49,
   "metadata": {},
   "outputs": [],
   "source": [
    "#hist.bins = 10;"
   ]
  },
  {
   "cell_type": "code",
   "execution_count": 50,
   "metadata": {},
   "outputs": [],
   "source": [
    "#slider = widgets.IntSlider(description='Bins number', min=1, max=100, v_model=30)"
   ]
  },
  {
   "cell_type": "code",
   "execution_count": 51,
   "metadata": {
    "scrolled": false
   },
   "outputs": [],
   "source": [
    "#widgets.link((hist, 'bins'), (slider, 'value'))\n",
    "\n",
    "#fig_lines = plt.figure( title='Line Chart')\n",
    "#lines = plt.plot(x, y)\n",
    "\n",
    "#fig_lines.layout.width = 'auto'\n",
    "#fig_lines.layout.height = 'auto'\n",
    "#fig_hist.layout.width = 'auto'\n",
    "#fig_hist.layout.height = 'auto'\n",
    "\n",
    "#grid_layout = widgets.GridspecLayout(5, 3)\n",
    "\n",
    "#grid_layout[:2, :] = fig_lines\n",
    "#grid_layout[2:4, :] = fig_hist\n",
    "#grid_layout[4, 1] = slider\n",
    "\n",
    "#grid_layout.layout.height = '1000px'\n",
    "\n",
    "#grid_layout"
   ]
  },
  {
   "cell_type": "code",
   "execution_count": 52,
   "metadata": {},
   "outputs": [],
   "source": [
    "#selector = plt.brush_int_selector()\n",
    "#def update_range(*ignore):\n",
    "#    if selector.selected is not None and len(selector.selected) == 2:\n",
    "#        xmin, xmax = selector.selected\n",
    "#        mask = (x > xmin) & (x < xmax)\n",
    "#        hist.sample = y[mask]\n",
    "#selector.observe(update_range, 'selected')        "
   ]
  },
  {
   "cell_type": "code",
   "execution_count": 53,
   "metadata": {},
   "outputs": [
    {
     "data": {
      "text/html": [
       "\n",
       "        <iframe\n",
       "            width=\"1200\"\n",
       "            height=\"500\"\n",
       "            src=\"https://sustainablecharging.nl/\"\n",
       "            frameborder=\"0\"\n",
       "            allowfullscreen\n",
       "        ></iframe>\n",
       "        "
      ],
      "text/plain": [
       "<IPython.lib.display.IFrame at 0x21281e61160>"
      ]
     },
     "execution_count": 53,
     "metadata": {},
     "output_type": "execute_result"
    }
   ],
   "source": [
    "from IPython.display import IFrame\n",
    "IFrame('https://sustainablecharging.nl/', width=1200, height=500)"
   ]
  },
  {
   "cell_type": "code",
   "execution_count": 54,
   "metadata": {},
   "outputs": [],
   "source": [
    "from pyowm.owm import OWM\n",
    "from pyowm.utils import timestamps\n",
    "from datetime import datetime, timedelta, timezone"
   ]
  },
  {
   "cell_type": "code",
   "execution_count": 55,
   "metadata": {},
   "outputs": [],
   "source": [
    "def get_weather():\n",
    "    \n",
    "    owm = OWM('1a4df9d4817c3d16e92b272d59531753')\n",
    "    mgr = owm.weather_manager()\n",
    "    one_call = mgr.one_call(lat=51.98787601885725, lon=5.950209138832937)\n",
    "    #one_call.forecast_daily[0].temperature('celsius').get('feels_like_morn', None) #Ex.: 7.7\n",
    "    forecast_hourly = one_call.forecast_hourly\n",
    "    \n",
    "    nr_of_weathers = len(forecast_hourly)\n",
    "    Cloud = np.zeros(len(forecast_hourly))\n",
    "    Temperature = np.zeros(len(forecast_hourly))\n",
    "    #Wind_speed = np.zeros(len(forecast_hourly))\n",
    "    #Wind_direction = np.zeros(len(forecast_hourly))\n",
    "    Humidity = np.zeros(len(forecast_hourly))\n",
    "    Air_pressure = np.zeros(len(forecast_hourly))\n",
    "\n",
    "    for i in range(nr_of_weathers):\n",
    "        dt = (datetime.fromtimestamp(forecast_hourly[i].ref_time)).strftime('%Y-%m-%d %H:%M:%S')\n",
    "        Cloud[i] = forecast_hourly[i].clouds\n",
    "        Temperature[i] = forecast_hourly[i].temperature('celsius')['temp']\n",
    "        #Wind_speed[i] = forecast_hourly[i].wind()['speed']\n",
    "        #Wind_direction[i] = forecast_hourly[i].wind()['deg']\n",
    "        Humidity[i] = forecast_hourly[i].humidity\n",
    "        Air_pressure[i] = forecast_hourly[i].pressure['press']*0.1\n",
    "        #print(dt, forecast_hourly[i].temperature('celsius'),forecast_hourly[i].clouds )\n",
    "    return Temperature, Air_pressure , Humidity, Cloud"
   ]
  },
  {
   "cell_type": "code",
   "execution_count": 56,
   "metadata": {},
   "outputs": [],
   "source": [
    "#Temperature, Air_pressure , Humidity, Cloud = get_weather()"
   ]
  },
  {
   "cell_type": "code",
   "execution_count": 57,
   "metadata": {},
   "outputs": [],
   "source": [
    "#print('Temperature',Temperature)\n",
    "#print('Cloud', Cloud)\n",
    "#print('Humidity', Humidity)\n",
    "#print('Air_pressure', Air_pressure)"
   ]
  },
  {
   "cell_type": "code",
   "execution_count": 58,
   "metadata": {},
   "outputs": [],
   "source": [
    "def get_modbus():\n",
    "    \n",
    "    host = \"80.113.19.27\"\n",
    "    port = 22\n",
    "    password = \"controlsystem\"\n",
    "    username = \"pi\"\n",
    "\n",
    "    ssh = paramiko.SSHClient()\n",
    "    ssh.set_missing_host_key_policy(paramiko.AutoAddPolicy())\n",
    "    ssh.connect(host, port, username, password)\n",
    "\n",
    "    ftp = ssh.open_sftp()\n",
    "    \n",
    "    data_d = ftp.chdir('/mnt/dav/Data')\n",
    "    cwd=ftp.getcwd()\n",
    "    path = Path.cwd()\n",
    "    \n",
    "    ftp.get(\"modbusData.db\",\"modbusData.db\",callback=None)\n",
    "    \n",
    "    conn = sqlite3.connect(\"modbusData.db\")\n",
    "    query = '''SELECT * from PV'''\n",
    "    PV_data= pd.read_sql_query(query,conn)\n",
    "    PV_data['Time']=pd.to_datetime(PV_data['Time'],unit='s')\n",
    "    \n",
    "    # PV data \n",
    "    PV_data= PV_data.sort_values(by='Time', ascending=True)\n",
    "    PV_data['Time']=pd.to_datetime(PV_data['Time'],unit='s')\n",
    "    PV_data = PV_data.set_index('Time')\n",
    "    PV_data=PV_data.resample('60min').mean()\n",
    "    PV_data = PV_data.tail(24)\n",
    "    \n",
    "    return PV_data"
   ]
  },
  {
   "cell_type": "code",
   "execution_count": 59,
   "metadata": {},
   "outputs": [],
   "source": [
    "#PV_data =get_modbus()"
   ]
  },
  {
   "cell_type": "code",
   "execution_count": 60,
   "metadata": {},
   "outputs": [],
   "source": [
    "#PV_data.head()"
   ]
  },
  {
   "cell_type": "code",
   "execution_count": 61,
   "metadata": {},
   "outputs": [
    {
     "name": "stderr",
     "output_type": "stream",
     "text": [
      "C:\\Users\\TrungNguyen\\Anaconda3\\envs\\AI_Model\\lib\\site-packages\\sklearn\\base.py:310: UserWarning: Trying to unpickle estimator DecisionTreeRegressor from version 0.24.1 when using version 0.24.2. This might lead to breaking code or invalid results. Use at your own risk.\n",
      "  warnings.warn(\n",
      "C:\\Users\\TrungNguyen\\Anaconda3\\envs\\AI_Model\\lib\\site-packages\\sklearn\\base.py:310: UserWarning: Trying to unpickle estimator RandomForestRegressor from version 0.24.1 when using version 0.24.2. This might lead to breaking code or invalid results. Use at your own risk.\n",
      "  warnings.warn(\n"
     ]
    }
   ],
   "source": [
    "import pickle\n",
    "# load the model from disk\n",
    "path = Path.cwd()\n",
    "#parentspath = path.parents[0]\n",
    "filename = 'Skit_learn_model.sav'\n",
    "loaded_model = pickle.load(open(path/filename, 'rb'))"
   ]
  },
  {
   "cell_type": "code",
   "execution_count": 62,
   "metadata": {},
   "outputs": [],
   "source": [
    "from datetime import datetime, date\n",
    "\n",
    "def get_doy_future(hours):\n",
    "    \n",
    "    #hours =24\n",
    "    doy_temp = pd.DataFrame(columns = ['temp'])\n",
    "    future_hours = []\n",
    "\n",
    "\n",
    "    for i in range(hours):\n",
    "\n",
    "        temp = datetime.now().replace(microsecond=0, second=0, minute=0) + timedelta(hours=i+1)\n",
    "        future_hours = np.append(future_hours,temp)\n",
    "        doy_temp.loc[future_hours[i]]= 0\n",
    "\n",
    "        doy_temp['index'] = doy_temp.index\n",
    "        doy_temp['index'] = doy_temp['index'].apply(lambda x:x.to_pydatetime())\n",
    "        doy_temp['year']  = doy_temp['index'].apply(lambda x:x.year)\n",
    "        doy_temp['month'] = doy_temp['index'].apply(lambda x:x.month)\n",
    "        doy_temp['day']   = doy_temp['index'].apply(lambda x:x.day)\n",
    "        doy_temp['hour']  = doy_temp['index'].apply(lambda x:x.hour)\n",
    "        \n",
    "    day_of_year = datetime.now().timetuple().tm_yday      \n",
    "    temp= np.zeros(hours)\n",
    "    dom = datetime.today().day\n",
    "    day = dom\n",
    "\n",
    "    for i in range(hours):\n",
    "        if doy_temp['day'][i] > day:\n",
    "            day=day+1\n",
    "            day_of_year = day_of_year + 1\n",
    "        temp[i] = day_of_year\n",
    "\n",
    "    day_of_year = temp\n",
    "    \n",
    "    return day_of_year"
   ]
  },
  {
   "cell_type": "code",
   "execution_count": 63,
   "metadata": {},
   "outputs": [
    {
     "data": {
      "text/plain": [
       "array([140., 140., 140., 140.])"
      ]
     },
     "execution_count": 63,
     "metadata": {},
     "output_type": "execute_result"
    }
   ],
   "source": [
    "#doy_future = get_doy_future(4)\n",
    "#doy_future"
   ]
  },
  {
   "cell_type": "code",
   "execution_count": 64,
   "metadata": {},
   "outputs": [],
   "source": [
    "def ge_TimeOfDay_futu(hours):\n",
    "    \n",
    "    TimeOfDay_futu = np.zeros(hours)\n",
    "    #now = datetime.datetime.now()\n",
    "    current_hour = datetime.now().hour\n",
    "    j=0\n",
    "    for i in range(hours):\n",
    "        temp= int(current_hour)*3600 + 3600*i\n",
    "        if temp > 82800:\n",
    "            temp = 3600*j\n",
    "            j=j+1\n",
    "        #print(temp)\n",
    "        TimeOfDay_futu[i]=temp\n",
    "    \n",
    "    return TimeOfDay_futu"
   ]
  },
  {
   "cell_type": "code",
   "execution_count": 65,
   "metadata": {},
   "outputs": [
    {
     "data": {
      "text/plain": [
       "array([43200., 46800., 50400., 54000., 57600., 61200., 64800., 68400.,\n",
       "       72000., 75600., 79200., 82800.,     0.,  3600.,  7200., 10800.,\n",
       "       14400., 18000., 21600., 25200., 28800., 32400., 36000., 39600.])"
      ]
     },
     "execution_count": 65,
     "metadata": {},
     "output_type": "execute_result"
    }
   ],
   "source": [
    "#TimeOfDay_futu = ge_TimeOfDay_futu(24)\n",
    "#TimeOfDay_futu"
   ]
  },
  {
   "cell_type": "code",
   "execution_count": 66,
   "metadata": {},
   "outputs": [
    {
     "data": {
      "application/vnd.jupyter.widget-view+json": {
       "model_id": "22ba17000c17401f9e0ce9cdb92dd6ba",
       "version_major": 2,
       "version_minor": 0
      },
      "text/plain": [
       "Button(description='Power', style=ButtonStyle())"
      ]
     },
     "metadata": {},
     "output_type": "display_data"
    },
    {
     "data": {
      "application/vnd.jupyter.widget-view+json": {
       "model_id": "c898700cadf142d38cfc58ceeb8a2e48",
       "version_major": 2,
       "version_minor": 0
      },
      "text/plain": [
       "Output()"
      ]
     },
     "metadata": {},
     "output_type": "display_data"
    }
   ],
   "source": [
    "import time\n",
    "import pylab as pl\n",
    "from IPython import display as cleardisplay\n",
    "\n",
    "import ipywidgets as widgets\n",
    "from IPython.display import display\n",
    "\n",
    "button = widgets.Button(description=\"Solar Power Prediction\")\n",
    "output = widgets.Output()\n",
    "\n",
    "display(button, output)\n",
    "updatetime = 60*5\n",
    "\n",
    "#future_data = future_data[[\"dayofyear_sin\", \"dayofyear_cos\", \n",
    "#                           \"hour_sin\",\"hour_cos\",\"ghi\"]]\n",
    "\n",
    "save_data   = pd.DataFrame(columns = ['Power','Temperature',\n",
    "                                      'Air_pressure','Humidity','doy_future','TimeOfDay_futu','Cloud'])\n",
    "\n",
    "def on_button_clicked(b):\n",
    "    count =0\n",
    "    save_all    = pd.DataFrame(columns = ['Power','Temperature',\n",
    "                                      'Air_pressure','Humidity','doy_future','TimeOfDay_futu','Cloud'])\n",
    "    #save_all_predict_h    = pd.DataFrame(['Power','Cloud','Temperature','Wind', 'Pressure','doy'])\n",
    "    current_hour = datetime.now().hour\n",
    "    \n",
    "    # Define predic_hour\n",
    "    predict_hour = 4\n",
    "    \n",
    "    with output:\n",
    "        \n",
    "        while True:\n",
    "                \n",
    "            #count =0\n",
    "            start = time.time()\n",
    "            #time.clock()\n",
    "            time.process_time()\n",
    "            elapsed = 0\n",
    "            n=0\n",
    "            pl.figure(figsize=(22,5))\n",
    "            \n",
    "            \n",
    "            while elapsed < time.process_time(): #time.process_time()\n",
    "                elapsed = time.time() - start\n",
    "                # Add x and y to lists\n",
    "                if elapsed >= n*updatetime:\n",
    "                    #print( n*updatetime)\n",
    "                    \n",
    "                    # Get weather data\n",
    "                    #\n",
    "                    Temperature, Air_pressure , Humidity, Cloud = get_weather()\n",
    "                    \n",
    "                    \n",
    "                    # get PVdata\n",
    "                    PV_data = get_modbus()\n",
    "                    #get doy and Time of the day (s)\n",
    "                    doy_future = get_doy_future(predict_hour)\n",
    "                    TimeOfDay_futu = ge_TimeOfDay_futu(predict_hour)\n",
    "                    \n",
    "                    #\n",
    "                    predict_input = np.array([Temperature[0:predict_hour], Air_pressure[0:predict_hour], \n",
    "                                            Humidity[0:predict_hour],doy_future[0:predict_hour],\n",
    "                                            TimeOfDay_futu[0:predict_hour],Cloud[0:predict_hour]])\n",
    "                                          \n",
    "                    predict_input = np.transpose(predict_input)\n",
    "                    solar_predict= loaded_model.predict(predict_input)*11.53\n",
    "                                          \n",
    "                       \n",
    "                    # Solar power always > 0\n",
    "                    solar_predict[solar_predict < 0] = 0\n",
    "\n",
    "\n",
    "                    future_hours = []\n",
    "                    PV_data_preidct = PV_data['P1'].copy()\n",
    "\n",
    "                        #future_hours = datetime.now().replace(microsecond=0, second=0, minute=0) + timedelta(hours=i+1)\n",
    "                        #future_hours = np.append(future_hours,future_hours)\n",
    "\n",
    "                    for i in range(predict_hour):\n",
    "                        \n",
    "                        temp = datetime.now().replace(microsecond=0, second=0, minute=0) + timedelta(hours=i+1)\n",
    "                        future_hours = np.append(future_hours,temp)\n",
    "                        PV_data_preidct.loc[future_hours[i]]= solar_predict[-predict_hour+i]\n",
    "\n",
    "                        #--------------------------------------\n",
    "                    \n",
    "                    pl.clf()\n",
    "                        #plt.figure(figsize=(15,6)) #plotting\n",
    "                    plt.plot(PV_data_preidct.loc['2021-04-12 09:00:00':,],label='predicted')\n",
    "                    plt.plot(PV_data['P1'].loc['2021-04-12 09:00:00':,],'r',label='meaured')\n",
    "                    plt.grid()\n",
    "                    plt.legend(loc=\"upper left\")\n",
    "                    plt.xlabel(\"Time\")\n",
    "                    plt.ylabel(\"Solar Power [W/m2]\")\n",
    "                    #plt.show()\n",
    "\n",
    "                    \n",
    "                    cleardisplay.clear_output(wait=True)\n",
    "                    cleardisplay.display(pl.gcf())\n",
    "\n",
    "\n",
    "                    #save_data.loc[future_hours[0]]= [solar_predict[-predict_hour],\n",
    "                    #                                 Temperature[0], Air_pressure[0],\n",
    "                    #                                 Humidity[0],doy_future[0],TimeOfDay_futu[0],Cloud[0]]\n",
    "                                                     \n",
    "                    \n",
    "                    #save_all = save_all.append(save_data) \n",
    "                    \n",
    "                    #save_data.to_csv('Solar_Power_prediction.csv')\n",
    "                    #save_all.to_csv('Solar_Power_prediction_allupdate.csv')\n",
    "                    #PV_data['P1'].to_csv('measure_data.csv')\n",
    "                    #PV_data_preidct.loc['2021-04-12 09:00:00':,].to_csv('all_predicted_hours.csv')\n",
    "                    \n",
    "                    #if(datetime.now().hour != current_hour):\n",
    "                    #    save_data.to_csv('Solar_Power_prediction_hour_non_update.csv')\n",
    "                    #    current_hour = datetime.now().hour\n",
    "                        \n",
    "                    #count = count + 1\n",
    "                    \n",
    "                    #if updatetime*count == 60*5*12:\n",
    "                    #    save_data.to_csv('Solar_Power_prediction_non_updated.csv')\n",
    "                    #    count = 0\n",
    "                            \n",
    "                time.sleep(updatetime)\n",
    "            pl.close()\n",
    "            \n",
    "\n",
    "button.on_click(on_button_clicked)\n"
   ]
  },
  {
   "cell_type": "code",
   "execution_count": null,
   "metadata": {},
   "outputs": [],
   "source": []
  }
 ],
 "metadata": {
  "kernelspec": {
   "display_name": "Python 3",
   "language": "python",
   "name": "python3"
  },
  "language_info": {
   "codemirror_mode": {
    "name": "ipython",
    "version": 3
   },
   "file_extension": ".py",
   "mimetype": "text/x-python",
   "name": "python",
   "nbconvert_exporter": "python",
   "pygments_lexer": "ipython3",
   "version": "3.8.10"
  },
  "widgets": {
   "application/vnd.jupyter.widget-state+json": {
    "state": {},
    "version_major": 2,
    "version_minor": 0
   }
  }
 },
 "nbformat": 4,
 "nbformat_minor": 4
}
